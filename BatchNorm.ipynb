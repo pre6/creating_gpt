{
 "cells": [
  {
   "cell_type": "markdown",
   "id": "2a9724e3-d175-4b1c-9a7c-f32ff522937b",
   "metadata": {},
   "source": [
    "# Batchnorm\n",
    "\n",
    "we want hpreact to be roughly around 0 so why not just normalize it?? -> batchnorm"
   ]
  },
  {
   "cell_type": "code",
   "execution_count": 37,
   "id": "006a1beb-42db-4263-943e-3b665cc0c969",
   "metadata": {},
   "outputs": [],
   "source": [
    "import random\n",
    "import torch\n",
    "import torch.nn.functional as F\n",
    "import matplotlib.pyplot as plt # for making figures\n",
    "%matplotlib inline\n"
   ]
  },
  {
   "cell_type": "code",
   "execution_count": 38,
   "id": "5a9657e6-415b-4947-995b-ea6e55027bf1",
   "metadata": {},
   "outputs": [
    {
     "data": {
      "text/plain": [
       "['emma', 'olivia', 'ava', 'isabella', 'sophia', 'charlotte', 'mia', 'amelia']"
      ]
     },
     "execution_count": 38,
     "metadata": {},
     "output_type": "execute_result"
    }
   ],
   "source": [
    "# read in all the words\n",
    "words = open('C:/Users/preet/Documents/Keep_Project/names.txt').read().splitlines()\n",
    "words[:8]"
   ]
  },
  {
   "cell_type": "code",
   "execution_count": 39,
   "id": "08828d0b-edf5-498e-9550-d8cd792d6eb5",
   "metadata": {},
   "outputs": [],
   "source": [
    "# build the vocabulary of characters and mappings to/from integers\n",
    "chars = sorted(list(set(''.join(words))))\n",
    "stoi = {s:i+1 for i,s in enumerate(chars)}\n",
    "stoi['.'] = 0\n",
    "itos = {i+1:s for i,s in enumerate(chars)}\n",
    "itos[0] = '.'\n",
    "\n",
    "vocab_size = 27"
   ]
  },
  {
   "cell_type": "code",
   "execution_count": 40,
   "id": "da9846da-27f1-467e-919a-7b5b12d2465a",
   "metadata": {},
   "outputs": [
    {
     "name": "stdout",
     "output_type": "stream",
     "text": [
      "torch.Size([182625, 3]) torch.Size([182625])\n",
      "torch.Size([22655, 3]) torch.Size([22655])\n",
      "torch.Size([22866, 3]) torch.Size([22866])\n"
     ]
    }
   ],
   "source": [
    "block_size = 3\n",
    "\n",
    "def build_dataset(words):\n",
    "    X,Y = [], []\n",
    "    \n",
    "    for w in words:\n",
    "        context = [0]*block_size\n",
    "        for ch in w + '.':\n",
    "            ix = stoi[ch]\n",
    "            X.append(context)\n",
    "            Y.append(ix)\n",
    "            context = context[1:] + [ix]\n",
    "    X = torch.tensor(X)\n",
    "    Y = torch.tensor(Y)\n",
    "    print(X.shape,Y.shape)\n",
    "    return X,Y\n",
    "            \n",
    "# create sets\n",
    "random.seed(42)\n",
    "random.shuffle(words)\n",
    "n1 = int(0.8*len(words))\n",
    "n2 = int(0.9*len(words))\n",
    "\n",
    "Xtr,  Ytr  = build_dataset(words[:n1])     # 80%\n",
    "Xdev, Ydev = build_dataset(words[n1:n2])   # 10%\n",
    "Xte,  Yte  = build_dataset(words[n2:])     # 10%"
   ]
  },
  {
   "cell_type": "code",
   "execution_count": 41,
   "id": "540c32c2-8fa5-442e-a8ff-978f2520559e",
   "metadata": {},
   "outputs": [],
   "source": [
    "\n",
    "\n",
    "\n",
    "\n",
    "n_embd = 10 # the dimensionality of the character embedding vectors\n",
    "n_hidden = 200 # the number of neurons in the hidden layer of the MLP\n",
    "\n",
    "# MLP\n",
    "bngain = torch.ones((1,n_hidden))\n",
    "bnbias = torch.zeros((1,n_hidden))\n",
    "\n",
    "\n",
    "g = torch.Generator().manual_seed(2147483647) # for reproducibility\n",
    "\n",
    "C  = torch.randn((vocab_size, n_embd),            generator=g)   \n",
    "# 27x20 matrix -> each letter gets 10 numbers\n",
    "\n",
    "W1 = torch.randn((n_embd * block_size, n_hidden), generator=g) * (5/3)/((n_embd * block_size)**0.5) #* 0.2 \n",
    "\n",
    "#the reason we have n_emb * block_size is because we want to concatinate the examples. Instead of a 3x10 matrix for one example\n",
    "# I want to make it a 1x 30 matrix, each example in one row.\n",
    "\n",
    "\n",
    "b1 = torch.randn(n_hidden,                        generator=g) * 0.01\n",
    "\n",
    "\n",
    "W2 = torch.randn((n_hidden, vocab_size),          generator=g) * 0.01\n",
    "# the input into this layer is -> 1X200 \n",
    "# this weight is 200 x 27 \n",
    "# the output is 1x 27 vector which would be a probabilty of a letter out of the 27\n",
    "\n",
    "b2 = torch.randn(vocab_size,                      generator=g) * 0\n",
    "\n",
    "\n",
    "\n",
    "parameters = [C, W1, b1, W2, b2, bngain, bnbias]\n",
    "\n",
    "for p in parameters:\n",
    "    p.requires_grad = True\n",
    "    \n",
    "\n",
    "# at intialization the thing will be exactly unit gausssian\n"
   ]
  },
  {
   "cell_type": "code",
   "execution_count": 42,
   "id": "c4911c7e-e332-4dd4-98b8-1f0b552e8476",
   "metadata": {},
   "outputs": [
    {
     "name": "stdout",
     "output_type": "stream",
     "text": [
      "      0/ 200000: 3.3153\n",
      "  10000/ 200000: 2.1706\n",
      "  20000/ 200000: 2.3339\n",
      "  30000/ 200000: 2.5143\n",
      "  40000/ 200000: 1.9491\n",
      "  50000/ 200000: 2.3896\n",
      "  60000/ 200000: 2.3723\n",
      "  70000/ 200000: 2.0383\n",
      "  80000/ 200000: 2.3944\n",
      "  90000/ 200000: 2.1295\n",
      " 100000/ 200000: 1.8097\n",
      " 110000/ 200000: 2.2099\n",
      " 120000/ 200000: 1.9458\n",
      " 130000/ 200000: 2.3309\n",
      " 140000/ 200000: 2.2505\n",
      " 150000/ 200000: 2.2001\n",
      " 160000/ 200000: 1.8520\n",
      " 170000/ 200000: 1.7781\n",
      " 180000/ 200000: 1.9428\n",
      " 190000/ 200000: 1.8188\n"
     ]
    }
   ],
   "source": [
    "max_steps = 200000\n",
    "batch_size = 32\n",
    "lossi = []\n",
    "\n",
    "\n",
    "\n",
    "for i in range(max_steps):\n",
    "    # minibatch contruct\n",
    "    ix = torch.randint(0, Xtr.shape[0], (batch_size,), generator=g)\n",
    "    Xb, Yb = Xtr[ix], Ytr[ix] # batch X,Y\n",
    "    \n",
    "    # its interesting that these are just 32 random example from the dataset. it is possible that some of the examples are not even in the training set???\n",
    "    \n",
    "    \n",
    "    # forward pass\n",
    "    emb = C[Xb] # embed the characters into vectors\n",
    "    # this is embeding each letter to a 1x10 vector\n",
    "    embcat = emb.view(emb.shape[0], -1) # concatenate the vectors\n",
    "    # remember we what each example to be one row. this makes each example one row\n",
    "    \n",
    "    # forward pass:\n",
    "    hpreact = embcat @ W1 + b1\n",
    "    \n",
    "    #Batch-norm\n",
    "    \n",
    "    hpreact = bngain*(hpreact - hpreact.mean(0,keepdim=True) / hpreact.std(0,keepdim=True)) + bnbias\n",
    "\n",
    "    \n",
    "    \n",
    "    h = torch.tanh(hpreact) # activation is tanh\n",
    "    logits = h @ W2 + b2\n",
    "    loss = F.cross_entropy(logits, Yb)\n",
    "    \n",
    "    #backward pass\n",
    "    for p in parameters:\n",
    "        p.grad = None\n",
    "    loss.backward()\n",
    "    \n",
    "    #update\n",
    "    \n",
    "    lr = 0.1 if i < 100000 else 0.01 # step learning rate decay\n",
    "    for p in parameters:\n",
    "        p.data += -lr * p.grad\n",
    "        \n",
    "    if i % 10000 == 0: # print every once in a while\n",
    "        print(f'{i:7d}/{max_steps:7d}: {loss.item():.4f}')\n",
    "        \n",
    "    lossi.append(loss.log10().item())\n",
    "  \n",
    "    \n",
    "    "
   ]
  },
  {
   "cell_type": "code",
   "execution_count": 43,
   "id": "e7fa11c3-5380-4aac-8307-00e11c2de5e7",
   "metadata": {},
   "outputs": [
    {
     "data": {
      "text/plain": [
       "[<matplotlib.lines.Line2D at 0x1898cb3d0d0>]"
      ]
     },
     "execution_count": 43,
     "metadata": {},
     "output_type": "execute_result"
    },
    {
     "data": {
      "image/png": "[encoded data removed]",
      "text/plain": [
       "<Figure size 432x288 with 1 Axes>"
      ]
     },
     "metadata": {
      "needs_background": "light"
     },
     "output_type": "display_data"
    }
   ],
   "source": [
    "plt.plot(lossi)"
   ]
  },
  {
   "attachments": {
    "ed08716a-696f-4923-87f8-e1054e86f781.png": {
     "image/png": "[encoded data removed]"
    }
   },
   "cell_type": "markdown",
   "id": "57b11188-ab17-47b5-9c3a-13b0972c3009",
   "metadata": {},
   "source": [
    "![image.png](attachment:ed08716a-696f-4923-87f8-e1054e86f781.png)"
   ]
  },
  {
   "cell_type": "markdown",
   "id": "f987b42b-8834-4cc4-9c13-3e5638f9eb22",
   "metadata": {},
   "source": [
    "There is some funky stuff that happens when you have batches instead of single example. The normalization apply to all the examples in a batch. \n",
    "\n",
    "But what happens when you want to just put in one example, currently bgain is just for out batch/"
   ]
  },
  {
   "cell_type": "code",
   "execution_count": 44,
   "id": "1ebb6f44-811e-43aa-9d2d-7528fd113079",
   "metadata": {},
   "outputs": [],
   "source": [
    "with torch.no_grad():\n",
    "    emb=C[Xtr]\n",
    "    embcat = emb.view(emb.shape[0],-1)\n",
    "    hpreact = embcat@ W1+b1\n",
    "    #measure the mean and std over the entire training set\n",
    "    bnmean = hpreact.mean(0,keepdim=True)\n",
    "    bnstd = hpreact.std(0,keepdim=True)"
   ]
  },
  {
   "cell_type": "code",
   "execution_count": 45,
   "id": "cf2009b4-e7f3-4637-8f6a-c454409b02cd",
   "metadata": {},
   "outputs": [
    {
     "name": "stdout",
     "output_type": "stream",
     "text": [
      "train 2.0459063053131104\n",
      "val 2.108705997467041\n"
     ]
    }
   ],
   "source": [
    "@torch.no_grad()\n",
    "def split_loss(split):\n",
    "    x,y = {'train': (Xtr, Ytr),\n",
    "           'val': (Xdev, Ydev),\n",
    "           'test': (Xte, Yte),\n",
    "          }[split]\n",
    "    emb = C[x] # (N, block_size, n_embd)\n",
    "    embcat = emb.view(emb.shape[0], -1) # concat into (N, block_size * n_embd)\n",
    "    hpreact = embcat @ W1 + b1\n",
    "    #Batch-norm\n",
    "    \n",
    "    #hpreact = bngain*(hpreact - hpreact.mean(0,keepdim=True) / hpreact.std(0,keepdim=True)) + bnbias\n",
    "    hpreact = bngain*(hpreact - bnmean / bnstd) + bnbias\n",
    "    h = torch.tanh(hpreact) # (N, n_hidden)\n",
    "    logits = h @ W2 + b2 # (N, vocab_size)\n",
    "    loss = F.cross_entropy(logits, y)\n",
    "    print(split, loss.item())\n",
    "\n",
    "split_loss('train')\n",
    "split_loss('val')"
   ]
  },
  {
   "cell_type": "markdown",
   "id": "1c761342-f7cc-4d10-8efd-cce1fbef9933",
   "metadata": {},
   "source": [
    "but no one wants to do this because they are lazy. SO instead we are going to calculate like a running mean\n",
    "\n",
    "\n",
    "# BatchNorm how it works on PyTorch\n",
    "\n"
   ]
  },
  {
   "cell_type": "code",
   "execution_count": 46,
   "id": "1340afa2-6a2c-41fb-ac11-4795c73aea99",
   "metadata": {},
   "outputs": [],
   "source": [
    "n_embd = 10 # the dimensionality of the character embedding vectors\n",
    "n_hidden = 200 # the number of neurons in the hidden layer of the MLP\n",
    "\n",
    "# MLP\n",
    "bngain = torch.ones((1,n_hidden))\n",
    "bnbias = torch.zeros((1,n_hidden))\n",
    "bnmean_running = torch.zeros((1,n_hidden))\n",
    "bnstd_running = torch.ones((1,n_hidden))\n",
    "\n",
    "\n",
    "g = torch.Generator().manual_seed(2147483647) # for reproducibility\n",
    "\n",
    "C  = torch.randn((vocab_size, n_embd),            generator=g)   \n",
    "# 27x20 matrix -> each letter gets 10 numbers\n",
    "\n",
    "W1 = torch.randn((n_embd * block_size, n_hidden), generator=g) * (5/3)/((n_embd * block_size)**0.5) #* 0.2 \n",
    "\n",
    "#the reason we have n_emb * block_size is because we want to concatinate the examples. Instead of a 3x10 matrix for one example\n",
    "# I want to make it a 1x 30 matrix, each example in one row.\n",
    "\n",
    "# dont use this bias because of the normalization \n",
    "#b1 = torch.randn(n_hidden,                        generator=g) * 0.01\n",
    "\n",
    "\n",
    "W2 = torch.randn((n_hidden, vocab_size),          generator=g) * 0.01\n",
    "# the input into this layer is -> 1X200 \n",
    "# this weight is 200 x 27 \n",
    "# the output is 1x 27 vector which would be a probabilty of a letter out of the 27\n",
    "\n",
    "b2 = torch.randn(vocab_size,                      generator=g) * 0\n",
    "\n",
    "\n",
    "\n",
    "parameters = [C, W1, b1, W2, b2, bngain, bnbias]\n",
    "\n",
    "for p in parameters:\n",
    "    p.requires_grad = True\n",
    "    \n",
    "\n",
    "# at intialization the thing will be exactly unit gausssian\n"
   ]
  },
  {
   "cell_type": "code",
   "execution_count": 48,
   "id": "b4f41954-08ab-4b6d-af28-499c1fff940d",
   "metadata": {},
   "outputs": [
    {
     "name": "stdout",
     "output_type": "stream",
     "text": [
      "      0/ 200000: 3.3054\n",
      "  10000/ 200000: 1.9723\n",
      "  20000/ 200000: 1.9615\n",
      "  30000/ 200000: 1.9927\n",
      "  40000/ 200000: 2.2249\n",
      "  50000/ 200000: 2.1427\n",
      "  60000/ 200000: 2.0560\n",
      "  70000/ 200000: 2.4045\n",
      "  80000/ 200000: 2.4765\n",
      "  90000/ 200000: 2.2469\n",
      " 100000/ 200000: 2.2752\n",
      " 110000/ 200000: 1.8618\n",
      " 120000/ 200000: 2.1693\n",
      " 130000/ 200000: 1.9158\n",
      " 140000/ 200000: 1.7343\n",
      " 150000/ 200000: 2.3178\n",
      " 160000/ 200000: 2.2471\n",
      " 170000/ 200000: 1.7665\n",
      " 180000/ 200000: 1.8767\n",
      " 190000/ 200000: 2.1175\n"
     ]
    }
   ],
   "source": [
    "max_steps = 200000\n",
    "batch_size = 32\n",
    "lossi = []\n",
    "\n",
    "\n",
    "\n",
    "for i in range(max_steps):\n",
    "    # minibatch contruct\n",
    "    ix = torch.randint(0, Xtr.shape[0], (batch_size,), generator=g)\n",
    "    Xb, Yb = Xtr[ix], Ytr[ix] # batch X,Y\n",
    "    \n",
    "    # its interesting that these are just 32 random example from the dataset. it is possible that some of the examples are not even in the training set???\n",
    "    \n",
    "    \n",
    "    # forward pass\n",
    "    emb = C[Xb] # embed the characters into vectors\n",
    "    # this is embeding each letter to a 1x10 vector\n",
    "    embcat = emb.view(emb.shape[0], -1) # concatenate the vectors\n",
    "    # remember we what each example to be one row. this makes each example one row\n",
    "    \n",
    "    # forward pass:\n",
    "    hpreact = embcat @ W1 + b1\n",
    "    \n",
    "    #Batch-norm\n",
    "    # everysingle firing rate will be gaussian but we dont want all of them to be that way all the time, we want some neurons to be more \"trigger happy\"\n",
    "    # depedning on the learning. So we introduce scale and shift\n",
    "    \n",
    "    bnmeani = hpreact.mean(0,keepdim=True)\n",
    "    bnstdi = hpreact.std(0,keepdim=True)\n",
    "    \n",
    "    hpreact = bngain*(hpreact - bnmeani / bnstdi) + bnbias\n",
    "    \n",
    "    with torch.no_grad():\n",
    "        bnmean_running = 0.999 * bnmean_running + 0.001 * bnmeani\n",
    "        bnstd_running = 0.999 * bnstd_running + 0.001 * bnstdi\n",
    "    \n",
    "\n",
    "    \n",
    "    \n",
    "    \n",
    "    h = torch.tanh(hpreact) # activation is tanh\n",
    "    logits = h @ W2 + b2\n",
    "    loss = F.cross_entropy(logits, Yb)\n",
    "    \n",
    "    #backward pass\n",
    "    for p in parameters:\n",
    "        p.grad = None\n",
    "    loss.backward()\n",
    "    \n",
    "    #update\n",
    "    \n",
    "    lr = 0.1 if i < 100000 else 0.01 # step learning rate decay\n",
    "    for p in parameters:\n",
    "        p.data += -lr * p.grad\n",
    "        \n",
    "    if i % 10000 == 0: # print every once in a while\n",
    "        print(f'{i:7d}/{max_steps:7d}: {loss.item():.4f}')\n",
    "        \n",
    "    lossi.append(loss.log10().item())\n",
    "  \n",
    "    \n",
    "    "
   ]
  },
  {
   "cell_type": "code",
   "execution_count": 49,
   "id": "52abfee3-4517-47b8-ab6a-0f632e13d2ed",
   "metadata": {},
   "outputs": [
    {
     "name": "stdout",
     "output_type": "stream",
     "text": [
      "train 2.046156644821167\n",
      "val 2.109158515930176\n"
     ]
    }
   ],
   "source": [
    "@torch.no_grad()\n",
    "def split_loss(split):\n",
    "    x,y = {'train': (Xtr, Ytr),\n",
    "           'val': (Xdev, Ydev),\n",
    "           'test': (Xte, Yte),\n",
    "          }[split]\n",
    "    emb = C[x] # (N, block_size, n_embd)\n",
    "    embcat = emb.view(emb.shape[0], -1) # concat into (N, block_size * n_embd)\n",
    "    hpreact = embcat @ W1 + b1\n",
    "    #Batch-norm\n",
    "    \n",
    "    #hpreact = bngain*(hpreact - hpreact.mean(0,keepdim=True) / hpreact.std(0,keepdim=True)) + bnbias\n",
    "    hpreact = bngain*(hpreact - bnmean_running / bnstd_running) + bnbias\n",
    "    h = torch.tanh(hpreact) # (N, n_hidden)\n",
    "    logits = h @ W2 + b2 # (N, vocab_size)\n",
    "    loss = F.cross_entropy(logits, y)\n",
    "    print(split, loss.item())\n",
    "\n",
    "split_loss('train')\n",
    "split_loss('val')"
   ]
  },
  {
   "cell_type": "markdown",
   "id": "14eed6fc-5ba8-4010-b219-cea550260528",
   "metadata": {},
   "source": [
    "the biases are not doing anything because you find the mean of hpreact. DOnt need bias but you can use batch normalization bias\n",
    "\n",
    "its intresting how we are using normalization like we are assuming that that normaization is the distribution normally like height or something. i just thought that was interesting. The making of an \"average\" human"
   ]
  },
  {
   "cell_type": "code",
   "execution_count": null,
   "id": "3740ac26-bce8-4f89-91aa-c550f65b8a36",
   "metadata": {},
   "outputs": [],
   "source": []
  }
 ],
 "metadata": {
  "kernelspec": {
   "display_name": "Python 3 (ipykernel)",
   "language": "python",
   "name": "python3"
  },
  "language_info": {
   "codemirror_mode": {
    "name": "ipython",
    "version": 3
   },
   "file_extension": ".py",
   "mimetype": "text/x-python",
   "name": "python",
   "nbconvert_exporter": "python",
   "pygments_lexer": "ipython3",
   "version": "3.9.12"
  }
 },
 "nbformat": 4,
 "nbformat_minor": 5
}
